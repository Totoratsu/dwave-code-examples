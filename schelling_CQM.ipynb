{
 "cells": [
  {
   "cell_type": "code",
   "execution_count": 4,
   "metadata": {},
   "outputs": [],
   "source": [
    "import numpy as np\n",
    "import matplotlib.pyplot as plt\n",
    "\n",
    "from dimod import BinaryQuadraticModel, BINARY\n",
    "from dwave.system import DWaveSampler, EmbeddingComposite"
   ]
  },
  {
   "cell_type": "code",
   "execution_count": 25,
   "metadata": {},
   "outputs": [
    {
     "data": {
      "image/png": "[encoded data removed]",
      "text/plain": [
       "<Figure size 640x480 with 1 Axes>"
      ]
     },
     "metadata": {},
     "output_type": "display_data"
    }
   ],
   "source": [
    "# Lattice config\n",
    "nn = 2**3\n",
    "N = nn**2\n",
    "\n",
    "# Groups\n",
    "A = N//2 # n -> 50%\n",
    "B = A    # m -> 50%\n",
    "initial_group_bias = 1\n",
    "\n",
    "# Constraints weights\n",
    "l_e = 4*N**2  # Equality constraint sum(A)=n & sum(B)=m\n",
    "l_n = 2   # Different neighbor cell constraint weight\n",
    "\n",
    "# Generate random lattice\n",
    "linear = np.concatenate((np.zeros(A), np.ones(B)))\n",
    "np.random.shuffle(linear)\n",
    "\n",
    "plt.imshow(linear.reshape((nn, nn)), cmap='gray', interpolation='nearest')\n",
    "plt.show()\n"
   ]
  },
  {
   "cell_type": "markdown",
   "metadata": {},
   "source": []
  },
  {
   "cell_type": "code",
   "execution_count": 36,
   "metadata": {},
   "outputs": [],
   "source": [
    "bqm = BinaryQuadraticModel.empty(vartype=BINARY)\n",
    "\n",
    "# Initial State or input\n",
    "bqm.add_variables_from(\n",
    "    [(i, linear[i] + initial_group_bias) for i in range(N)]\n",
    ")\n",
    "\n",
    "# Constraints\n",
    "bqm.add_linear_equality_constraint(\n",
    "    terms=[(i, linear[i]) for i in range(N)],\n",
    "    lagrange_multiplier=l_e, # weight of conservation constraint\n",
    "    constant=B               # we must maintain the number of 1s\n",
    ")\n",
    "\n",
    "# Objective function\n",
    "for i in range(nn):\n",
    "    for j in range(nn):\n",
    "        # 8-nearest neighbors\n",
    "        for k in range(-1, 2):\n",
    "            new_i = ((k+i) % nn) * nn\n",
    "\n",
    "            # l_n * (x_{ij}-x_{(i+k)(j+l)})^2\n",
    "            for l in range(-1, 2):\n",
    "                if (k==0 and l==0) or (): continue\n",
    "                ij = i*nn + j\n",
    "                new_ij = new_i + (l+j) % nn\n",
    "                if ij == new_ij: continue\n",
    "\n",
    "                bqm.add_linear(ij, l_n)\n",
    "                bqm.add_linear(new_ij, l_n)\n",
    "                bqm.add_interaction(ij, new_ij, -2*l_n)\n"
   ]
  },
  {
   "cell_type": "code",
   "execution_count": null,
   "metadata": {},
   "outputs": [],
   "source": [
    "sampler = EmbeddingComposite(DWaveSampler(\n",
    "    token=\"token\"\n",
    "))\n",
    "response = sampler.sample(bqm, num_reads=50)"
   ]
  },
  {
   "cell_type": "code",
   "execution_count": null,
   "metadata": {},
   "outputs": [],
   "source": [
    "num_results = len(response)\n",
    "\n",
    "num_ones = []\n",
    "\n",
    "rows = 5 # Ajusta según el número de resultados\n",
    "cols = 10 # Ajusta según el número de resultados\n",
    "\n",
    "fig, axes = plt.subplots(rows, cols, figsize=(15, 8)) \n",
    "\n",
    "# Flatten axes para iterar fácilmente\n",
    "axes = axes.flatten()\n",
    "\n",
    "for i, sample in enumerate(response.data()):\n",
    "  solution = np.array(list(sample.sample.values()))\n",
    "  \n",
    "  num_ones.append(np.count_nonzero(solution == 1))\n",
    "  \n",
    "  axes[i].imshow(solution.reshape((nn, nn)), cmap='gray', interpolation='nearest')\n",
    "  axes[i].set_title(f'Sample {i+1}')\n",
    "  axes[i].axis('off')\n",
    "\n",
    "# Ocultar subplots vacíos si no son 50 resultados\n",
    "for i in range(num_results, rows*cols):\n",
    "  axes[i].axis('off')\n",
    "\n",
    "plt.tight_layout() \n",
    "plt.show()"
   ]
  },
  {
   "cell_type": "code",
   "execution_count": null,
   "metadata": {},
   "outputs": [],
   "source": [
    "for sample in response.data():\n",
    "  solution = np.array(list(sample.sample.values()))\n",
    "  num_ones.append(np.count_nonzero(solution == 1))\n",
    "\n",
    "print(num_ones)\n",
    "\n",
    "plt.hist(num_ones, bins=10)\n",
    "plt.axvline(x=B, color='r', linestyle='--')\n",
    "plt.xlabel('Number of 1s')\n",
    "plt.ylabel('Frequency')\n",
    "plt.title('Histogram of number of 1s in the solutions')\n",
    "plt.ylim(0, 100)\n",
    "plt.show()"
   ]
  },
  {
   "cell_type": "code",
   "execution_count": null,
   "metadata": {},
   "outputs": [],
   "source": [
    "minimum_energy_samples = response.lowest()\n",
    "sample = minimum_energy_samples.first.sample \n",
    "solution = np.array(list(sample.values()))\n",
    "\n",
    "fig, axes = plt.subplots(1, 2, figsize=(10, 5))\n",
    "\n",
    "axes[0].imshow(linear.reshape((nn, nn)), cmap='gray', interpolation='nearest')\n",
    "axes[0].set_title('Initial State')\n",
    "axes[0].set_xticks([])\n",
    "axes[0].set_yticks([])\n",
    "\n",
    "\n",
    "axes[1].imshow(solution.reshape((nn, nn)), cmap='gray', interpolation='nearest')\n",
    "axes[1].set_title('Solution')\n",
    "axes[1].set_xticks([])\n",
    "axes[1].set_yticks([])\n",
    "\n",
    "plt.show()"
   ]
  }
 ],
 "metadata": {
  "kernelspec": {
   "display_name": "Python 3",
   "language": "python",
   "name": "python3"
  },
  "language_info": {
   "codemirror_mode": {
    "name": "ipython",
    "version": 3
   },
   "file_extension": ".py",
   "mimetype": "text/x-python",
   "name": "python",
   "nbconvert_exporter": "python",
   "pygments_lexer": "ipython3",
   "version": "3.11.10"
  }
 },
 "nbformat": 4,
 "nbformat_minor": 2
}
